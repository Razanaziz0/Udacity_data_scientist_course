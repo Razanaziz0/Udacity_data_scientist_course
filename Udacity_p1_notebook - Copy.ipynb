{
 "cells": [
  {
   "cell_type": "markdown",
   "id": "falling-premiere",
   "metadata": {},
   "source": [
    "# Airbnb Seattle Analysis\n",
    "\n",
    "This is the project of Udacity's data scientist nanodegree program\n",
    "\n",
    "## Analysis Airbnb Seattle Data By CRISP-DM Process\n",
    "CRISP-DM  process(Cross-Industry Standard Process for Data Mining): is a process model describing the life cycle of data science. In short, it guides you through the entire phases of planning, organizing, and implementing your data mining project.\n",
    "## CRISP-DM process majors.\n",
    "\n",
    "1-Business Understanding\n",
    "\n",
    "2-Data Understanding\n",
    "\n",
    "3-Data Preparation\n",
    "\n",
    "4-Modeling\n",
    "\n",
    "5-Evaluation\n",
    "\n",
    "6-Deployment\n",
    "\n",
    "### 1-Business Understanding\n",
    "An Airbnb is a residential property that hosts rent on a short term basis to travelers. It can be anything from a house, a single room, a boat or even a tree house. Think of it as pop-up accommodation – a market place where people rent out their properties.\n",
    "\n",
    "\n",
    "after I understand the busness I considered three below questions to explore its way.\n",
    "\n",
    "1-When do reservations increase in Seattle?what is the busiest season ?\n",
    "\n",
    "2-If bookings increase is prices increase also ?\n",
    "\n",
    "3-is the property prices change based on neighborhoods and high review scores ?\n",
    "\n",
    "We can be able to answer these questions by analysing Airbnb dataset.\n",
    "\n",
    "\n",
    "### 2-Data Understanding\n",
    "We have three  Airbnb dataset:\n",
    "\n",
    "1-Calendar, including listing id and the price and availability for that day.\n",
    "\n",
    "2- Listings, including full descriptions and average review score.\n",
    "\n",
    "3-Reviews, including unique id for each reviewer and detailed comments.\n",
    "\n"
   ]
  },
  {
   "cell_type": "code",
   "execution_count": 2,
   "id": "coordinated-equity",
   "metadata": {},
   "outputs": [],
   "source": [
    "\n",
    "import pandas as pd\n",
    "import numpy as np\n",
    "import datetime as dt\n",
    "import matplotlib.pyplot as plt\n",
    "from sklearn.linear_model import LinearRegression\n",
    "from sklearn.model_selection import train_test_split\n",
    "from sklearn.metrics import r2_score, mean_squared_error\n",
    "import seaborn as sns"
   ]
  },
  {
   "cell_type": "code",
   "execution_count": 3,
   "id": "commercial-budapest",
   "metadata": {},
   "outputs": [],
   "source": [
    "calendar = pd.read_csv('C:/Users/AlmousaRazan/Downloads/archive/calendar.csv')\n",
    "listings = pd.read_csv('C:/Users/AlmousaRazan/Downloads/archive/listings.csv')\n",
    "reviews = pd.read_csv('C:/Users/AlmousaRazan/Downloads/archive/reviews.csv')\n"
   ]
  },
  {
   "cell_type": "markdown",
   "id": "sufficient-project",
   "metadata": {},
   "source": [
    "### Calendar"
   ]
  },
  {
   "cell_type": "code",
   "execution_count": 4,
   "id": "olympic-surfing",
   "metadata": {},
   "outputs": [
    {
     "data": {
      "text/plain": [
       "Index(['listing_id', 'date', 'available', 'price'], dtype='object')"
      ]
     },
     "execution_count": 4,
     "metadata": {},
     "output_type": "execute_result"
    }
   ],
   "source": [
    "calendar.columns\n"
   ]
  },
  {
   "cell_type": "code",
   "execution_count": 5,
   "id": "agricultural-spanish",
   "metadata": {},
   "outputs": [
    {
     "data": {
      "text/html": [
       "<div>\n",
       "<style scoped>\n",
       "    .dataframe tbody tr th:only-of-type {\n",
       "        vertical-align: middle;\n",
       "    }\n",
       "\n",
       "    .dataframe tbody tr th {\n",
       "        vertical-align: top;\n",
       "    }\n",
       "\n",
       "    .dataframe thead th {\n",
       "        text-align: right;\n",
       "    }\n",
       "</style>\n",
       "<table border=\"1\" class=\"dataframe\">\n",
       "  <thead>\n",
       "    <tr style=\"text-align: right;\">\n",
       "      <th></th>\n",
       "      <th>listing_id</th>\n",
       "      <th>date</th>\n",
       "      <th>available</th>\n",
       "      <th>price</th>\n",
       "    </tr>\n",
       "  </thead>\n",
       "  <tbody>\n",
       "    <tr>\n",
       "      <th>0</th>\n",
       "      <td>241032</td>\n",
       "      <td>2016-01-04</td>\n",
       "      <td>t</td>\n",
       "      <td>$85.00</td>\n",
       "    </tr>\n",
       "    <tr>\n",
       "      <th>1</th>\n",
       "      <td>241032</td>\n",
       "      <td>2016-01-05</td>\n",
       "      <td>t</td>\n",
       "      <td>$85.00</td>\n",
       "    </tr>\n",
       "    <tr>\n",
       "      <th>2</th>\n",
       "      <td>241032</td>\n",
       "      <td>2016-01-06</td>\n",
       "      <td>f</td>\n",
       "      <td>NaN</td>\n",
       "    </tr>\n",
       "    <tr>\n",
       "      <th>3</th>\n",
       "      <td>241032</td>\n",
       "      <td>2016-01-07</td>\n",
       "      <td>f</td>\n",
       "      <td>NaN</td>\n",
       "    </tr>\n",
       "    <tr>\n",
       "      <th>4</th>\n",
       "      <td>241032</td>\n",
       "      <td>2016-01-08</td>\n",
       "      <td>f</td>\n",
       "      <td>NaN</td>\n",
       "    </tr>\n",
       "  </tbody>\n",
       "</table>\n",
       "</div>"
      ],
      "text/plain": [
       "   listing_id        date available   price\n",
       "0      241032  2016-01-04         t  $85.00\n",
       "1      241032  2016-01-05         t  $85.00\n",
       "2      241032  2016-01-06         f     NaN\n",
       "3      241032  2016-01-07         f     NaN\n",
       "4      241032  2016-01-08         f     NaN"
      ]
     },
     "execution_count": 5,
     "metadata": {},
     "output_type": "execute_result"
    }
   ],
   "source": [
    "calendar.head()"
   ]
  },
  {
   "cell_type": "code",
   "execution_count": 6,
   "id": "golden-gibson",
   "metadata": {},
   "outputs": [
    {
     "data": {
      "text/plain": [
       "listing_id     int64\n",
       "date          object\n",
       "available     object\n",
       "price         object\n",
       "dtype: object"
      ]
     },
     "execution_count": 6,
     "metadata": {},
     "output_type": "execute_result"
    }
   ],
   "source": [
    "calendar.dtypes"
   ]
  },
  {
   "cell_type": "markdown",
   "id": "sitting-executive",
   "metadata": {},
   "source": [
    "### Data Preparation "
   ]
  },
  {
   "cell_type": "markdown",
   "id": "legal-violin",
   "metadata": {},
   "source": [
    "##### Convert price column type from object to numeric\n",
    "The price values are stored as object, not integer. This is caused the value stored like $xx.xx, and it is necessary to transform this column."
   ]
  },
  {
   "cell_type": "code",
   "execution_count": 7,
   "id": "distinct-enzyme",
   "metadata": {},
   "outputs": [],
   "source": [
    "calendar['price'] = calendar['price'].str.replace('[$,]', '',regex=True)\n",
    "calendar['price'] = pd.to_numeric(calendar['price'])\n",
    "calendar['date']=pd.to_datetime(calendar['date'])\n"
   ]
  },
  {
   "cell_type": "markdown",
   "id": "pursuant-aviation",
   "metadata": {},
   "source": [
    "##### Remove NA values"
   ]
  },
  {
   "cell_type": "code",
   "execution_count": 9,
   "id": "freelance-concern",
   "metadata": {},
   "outputs": [],
   "source": [
    "calendar_dropna = calendar.dropna(axis=0)\n",
    "calendar_dub=calendar_dropna.drop_duplicates(keep = 'first')"
   ]
  },
  {
   "cell_type": "code",
   "execution_count": 10,
   "id": "continued-sentence",
   "metadata": {},
   "outputs": [],
   "source": [
    "calendar_dub['cnt']=1\n",
    "calendar_group= calendar_dub.groupby(['date'], as_index=False)['price'].mean()"
   ]
  },
  {
   "cell_type": "code",
   "execution_count": 11,
   "id": "federal-curve",
   "metadata": {},
   "outputs": [],
   "source": [
    "calendar_group2= calendar_dub.groupby(['date'], as_index=False)['cnt'].sum()\n"
   ]
  },
  {
   "cell_type": "code",
   "execution_count": 12,
   "id": "alike-singing",
   "metadata": {},
   "outputs": [
    {
     "data": {
      "image/png": "[encoded data removed]",
      "text/plain": [
       "<Figure size 432x288 with 1 Axes>"
      ]
     },
     "metadata": {
      "needs_background": "light"
     },
     "output_type": "display_data"
    }
   ],
   "source": [
    "calendar_group.dtypes\n",
    "month = calendar_group.date.dt.month.unique()\n",
    "\n",
    "sns.barplot(x=calendar_group.date.dt.month,y=calendar_group['price']);\n",
    "plt.xlabel('Month')\n",
    "plt.ylabel('average listing price')\n",
    "plt.title('Average listing price by months');\n",
    "\n"
   ]
  },
  {
   "cell_type": "code",
   "execution_count": 14,
   "id": "negative-divide",
   "metadata": {},
   "outputs": [
    {
     "data": {
      "image/png": "[encoded data removed]",
      "text/plain": [
       "<Figure size 432x288 with 1 Axes>"
      ]
     },
     "metadata": {
      "needs_background": "light"
     },
     "output_type": "display_data"
    }
   ],
   "source": [
    "sns.barplot(x=calendar_group2.date.dt.month,y=calendar_group2['cnt']);\n",
    "plt.xlabel('Month')\n",
    "plt.ylabel('# of reservations ')\n",
    "plt.title('# of reservations by months');\n",
    "\n"
   ]
  },
  {
   "cell_type": "markdown",
   "id": "magnetic-memphis",
   "metadata": {},
   "source": [
    "##### This is interesting.\n",
    "From above graphs I observe \n",
    "\n",
    "1-The busiest seasons are on March,November and December.\n",
    "\n",
    "2-The average price rise from June to August .\n",
    "\n",
    "3-There is no relationship between increas number of reservations and higher prices because it is possible that real estate owners do not rent the property during the summer because they are staying there.\n"
   ]
  },
  {
   "cell_type": "markdown",
   "id": "independent-hazard",
   "metadata": {},
   "source": [
    "### Listings "
   ]
  },
  {
   "cell_type": "code",
   "execution_count": 15,
   "id": "geological-camera",
   "metadata": {},
   "outputs": [
    {
     "data": {
      "text/plain": [
       "Index(['id', 'listing_url', 'scrape_id', 'last_scraped', 'name', 'summary',\n",
       "       'space', 'description', 'experiences_offered', 'neighborhood_overview',\n",
       "       'notes', 'transit', 'thumbnail_url', 'medium_url', 'picture_url',\n",
       "       'xl_picture_url', 'host_id', 'host_url', 'host_name', 'host_since',\n",
       "       'host_location', 'host_about', 'host_response_time',\n",
       "       'host_response_rate', 'host_acceptance_rate', 'host_is_superhost',\n",
       "       'host_thumbnail_url', 'host_picture_url', 'host_neighbourhood',\n",
       "       'host_listings_count', 'host_total_listings_count',\n",
       "       'host_verifications', 'host_has_profile_pic', 'host_identity_verified',\n",
       "       'street', 'neighbourhood', 'neighbourhood_cleansed',\n",
       "       'neighbourhood_group_cleansed', 'city', 'state', 'zipcode', 'market',\n",
       "       'smart_location', 'country_code', 'country', 'latitude', 'longitude',\n",
       "       'is_location_exact', 'property_type', 'room_type', 'accommodates',\n",
       "       'bathrooms', 'bedrooms', 'beds', 'bed_type', 'amenities', 'square_feet',\n",
       "       'price', 'weekly_price', 'monthly_price', 'security_deposit',\n",
       "       'cleaning_fee', 'guests_included', 'extra_people', 'minimum_nights',\n",
       "       'maximum_nights', 'calendar_updated', 'has_availability',\n",
       "       'availability_30', 'availability_60', 'availability_90',\n",
       "       'availability_365', 'calendar_last_scraped', 'number_of_reviews',\n",
       "       'first_review', 'last_review', 'review_scores_rating',\n",
       "       'review_scores_accuracy', 'review_scores_cleanliness',\n",
       "       'review_scores_checkin', 'review_scores_communication',\n",
       "       'review_scores_location', 'review_scores_value', 'requires_license',\n",
       "       'license', 'jurisdiction_names', 'instant_bookable',\n",
       "       'cancellation_policy', 'require_guest_profile_picture',\n",
       "       'require_guest_phone_verification', 'calculated_host_listings_count',\n",
       "       'reviews_per_month'],\n",
       "      dtype='object')"
      ]
     },
     "execution_count": 15,
     "metadata": {},
     "output_type": "execute_result"
    }
   ],
   "source": [
    "# listings = pd.read_csv('C:/Users/AlmousaRazan/Downloads/archive/listings.csv')\n",
    "\n",
    "listings.columns\n"
   ]
  },
  {
   "cell_type": "code",
   "execution_count": 16,
   "id": "demographic-purple",
   "metadata": {},
   "outputs": [
    {
     "data": {
      "text/html": [
       "<div>\n",
       "<style scoped>\n",
       "    .dataframe tbody tr th:only-of-type {\n",
       "        vertical-align: middle;\n",
       "    }\n",
       "\n",
       "    .dataframe tbody tr th {\n",
       "        vertical-align: top;\n",
       "    }\n",
       "\n",
       "    .dataframe thead th {\n",
       "        text-align: right;\n",
       "    }\n",
       "</style>\n",
       "<table border=\"1\" class=\"dataframe\">\n",
       "  <thead>\n",
       "    <tr style=\"text-align: right;\">\n",
       "      <th></th>\n",
       "      <th>id</th>\n",
       "      <th>listing_url</th>\n",
       "      <th>scrape_id</th>\n",
       "      <th>last_scraped</th>\n",
       "      <th>name</th>\n",
       "      <th>summary</th>\n",
       "      <th>space</th>\n",
       "      <th>description</th>\n",
       "      <th>experiences_offered</th>\n",
       "      <th>neighborhood_overview</th>\n",
       "      <th>...</th>\n",
       "      <th>review_scores_value</th>\n",
       "      <th>requires_license</th>\n",
       "      <th>license</th>\n",
       "      <th>jurisdiction_names</th>\n",
       "      <th>instant_bookable</th>\n",
       "      <th>cancellation_policy</th>\n",
       "      <th>require_guest_profile_picture</th>\n",
       "      <th>require_guest_phone_verification</th>\n",
       "      <th>calculated_host_listings_count</th>\n",
       "      <th>reviews_per_month</th>\n",
       "    </tr>\n",
       "  </thead>\n",
       "  <tbody>\n",
       "    <tr>\n",
       "      <th>0</th>\n",
       "      <td>241032</td>\n",
       "      <td>https://www.airbnb.com/rooms/241032</td>\n",
       "      <td>20160104002432</td>\n",
       "      <td>2016-01-04</td>\n",
       "      <td>Stylish Queen Anne Apartment</td>\n",
       "      <td>NaN</td>\n",
       "      <td>Make your self at home in this charming one-be...</td>\n",
       "      <td>Make your self at home in this charming one-be...</td>\n",
       "      <td>none</td>\n",
       "      <td>NaN</td>\n",
       "      <td>...</td>\n",
       "      <td>10.0</td>\n",
       "      <td>f</td>\n",
       "      <td>NaN</td>\n",
       "      <td>WASHINGTON</td>\n",
       "      <td>f</td>\n",
       "      <td>moderate</td>\n",
       "      <td>f</td>\n",
       "      <td>f</td>\n",
       "      <td>2</td>\n",
       "      <td>4.07</td>\n",
       "    </tr>\n",
       "    <tr>\n",
       "      <th>1</th>\n",
       "      <td>953595</td>\n",
       "      <td>https://www.airbnb.com/rooms/953595</td>\n",
       "      <td>20160104002432</td>\n",
       "      <td>2016-01-04</td>\n",
       "      <td>Bright &amp; Airy Queen Anne Apartment</td>\n",
       "      <td>Chemically sensitive? We've removed the irrita...</td>\n",
       "      <td>Beautiful, hypoallergenic apartment in an extr...</td>\n",
       "      <td>Chemically sensitive? We've removed the irrita...</td>\n",
       "      <td>none</td>\n",
       "      <td>Queen Anne is a wonderful, truly functional vi...</td>\n",
       "      <td>...</td>\n",
       "      <td>10.0</td>\n",
       "      <td>f</td>\n",
       "      <td>NaN</td>\n",
       "      <td>WASHINGTON</td>\n",
       "      <td>f</td>\n",
       "      <td>strict</td>\n",
       "      <td>t</td>\n",
       "      <td>t</td>\n",
       "      <td>6</td>\n",
       "      <td>1.48</td>\n",
       "    </tr>\n",
       "    <tr>\n",
       "      <th>2</th>\n",
       "      <td>3308979</td>\n",
       "      <td>https://www.airbnb.com/rooms/3308979</td>\n",
       "      <td>20160104002432</td>\n",
       "      <td>2016-01-04</td>\n",
       "      <td>New Modern House-Amazing water view</td>\n",
       "      <td>New modern house built in 2013.  Spectacular s...</td>\n",
       "      <td>Our house is modern, light and fresh with a wa...</td>\n",
       "      <td>New modern house built in 2013.  Spectacular s...</td>\n",
       "      <td>none</td>\n",
       "      <td>Upper Queen Anne is a charming neighborhood fu...</td>\n",
       "      <td>...</td>\n",
       "      <td>10.0</td>\n",
       "      <td>f</td>\n",
       "      <td>NaN</td>\n",
       "      <td>WASHINGTON</td>\n",
       "      <td>f</td>\n",
       "      <td>strict</td>\n",
       "      <td>f</td>\n",
       "      <td>f</td>\n",
       "      <td>2</td>\n",
       "      <td>1.15</td>\n",
       "    </tr>\n",
       "    <tr>\n",
       "      <th>3</th>\n",
       "      <td>7421966</td>\n",
       "      <td>https://www.airbnb.com/rooms/7421966</td>\n",
       "      <td>20160104002432</td>\n",
       "      <td>2016-01-04</td>\n",
       "      <td>Queen Anne Chateau</td>\n",
       "      <td>A charming apartment that sits atop Queen Anne...</td>\n",
       "      <td>NaN</td>\n",
       "      <td>A charming apartment that sits atop Queen Anne...</td>\n",
       "      <td>none</td>\n",
       "      <td>NaN</td>\n",
       "      <td>...</td>\n",
       "      <td>NaN</td>\n",
       "      <td>f</td>\n",
       "      <td>NaN</td>\n",
       "      <td>WASHINGTON</td>\n",
       "      <td>f</td>\n",
       "      <td>flexible</td>\n",
       "      <td>f</td>\n",
       "      <td>f</td>\n",
       "      <td>1</td>\n",
       "      <td>NaN</td>\n",
       "    </tr>\n",
       "    <tr>\n",
       "      <th>4</th>\n",
       "      <td>278830</td>\n",
       "      <td>https://www.airbnb.com/rooms/278830</td>\n",
       "      <td>20160104002432</td>\n",
       "      <td>2016-01-04</td>\n",
       "      <td>Charming craftsman 3 bdm house</td>\n",
       "      <td>Cozy family craftman house in beautiful neighb...</td>\n",
       "      <td>Cozy family craftman house in beautiful neighb...</td>\n",
       "      <td>Cozy family craftman house in beautiful neighb...</td>\n",
       "      <td>none</td>\n",
       "      <td>We are in the beautiful neighborhood of Queen ...</td>\n",
       "      <td>...</td>\n",
       "      <td>9.0</td>\n",
       "      <td>f</td>\n",
       "      <td>NaN</td>\n",
       "      <td>WASHINGTON</td>\n",
       "      <td>f</td>\n",
       "      <td>strict</td>\n",
       "      <td>f</td>\n",
       "      <td>f</td>\n",
       "      <td>1</td>\n",
       "      <td>0.89</td>\n",
       "    </tr>\n",
       "  </tbody>\n",
       "</table>\n",
       "<p>5 rows × 92 columns</p>\n",
       "</div>"
      ],
      "text/plain": [
       "        id                           listing_url       scrape_id last_scraped  \\\n",
       "0   241032   https://www.airbnb.com/rooms/241032  20160104002432   2016-01-04   \n",
       "1   953595   https://www.airbnb.com/rooms/953595  20160104002432   2016-01-04   \n",
       "2  3308979  https://www.airbnb.com/rooms/3308979  20160104002432   2016-01-04   \n",
       "3  7421966  https://www.airbnb.com/rooms/7421966  20160104002432   2016-01-04   \n",
       "4   278830   https://www.airbnb.com/rooms/278830  20160104002432   2016-01-04   \n",
       "\n",
       "                                  name  \\\n",
       "0         Stylish Queen Anne Apartment   \n",
       "1   Bright & Airy Queen Anne Apartment   \n",
       "2  New Modern House-Amazing water view   \n",
       "3                   Queen Anne Chateau   \n",
       "4       Charming craftsman 3 bdm house   \n",
       "\n",
       "                                             summary  \\\n",
       "0                                                NaN   \n",
       "1  Chemically sensitive? We've removed the irrita...   \n",
       "2  New modern house built in 2013.  Spectacular s...   \n",
       "3  A charming apartment that sits atop Queen Anne...   \n",
       "4  Cozy family craftman house in beautiful neighb...   \n",
       "\n",
       "                                               space  \\\n",
       "0  Make your self at home in this charming one-be...   \n",
       "1  Beautiful, hypoallergenic apartment in an extr...   \n",
       "2  Our house is modern, light and fresh with a wa...   \n",
       "3                                                NaN   \n",
       "4  Cozy family craftman house in beautiful neighb...   \n",
       "\n",
       "                                         description experiences_offered  \\\n",
       "0  Make your self at home in this charming one-be...                none   \n",
       "1  Chemically sensitive? We've removed the irrita...                none   \n",
       "2  New modern house built in 2013.  Spectacular s...                none   \n",
       "3  A charming apartment that sits atop Queen Anne...                none   \n",
       "4  Cozy family craftman house in beautiful neighb...                none   \n",
       "\n",
       "                               neighborhood_overview  ... review_scores_value  \\\n",
       "0                                                NaN  ...                10.0   \n",
       "1  Queen Anne is a wonderful, truly functional vi...  ...                10.0   \n",
       "2  Upper Queen Anne is a charming neighborhood fu...  ...                10.0   \n",
       "3                                                NaN  ...                 NaN   \n",
       "4  We are in the beautiful neighborhood of Queen ...  ...                 9.0   \n",
       "\n",
       "  requires_license license jurisdiction_names instant_bookable  \\\n",
       "0                f     NaN         WASHINGTON                f   \n",
       "1                f     NaN         WASHINGTON                f   \n",
       "2                f     NaN         WASHINGTON                f   \n",
       "3                f     NaN         WASHINGTON                f   \n",
       "4                f     NaN         WASHINGTON                f   \n",
       "\n",
       "  cancellation_policy  require_guest_profile_picture  \\\n",
       "0            moderate                              f   \n",
       "1              strict                              t   \n",
       "2              strict                              f   \n",
       "3            flexible                              f   \n",
       "4              strict                              f   \n",
       "\n",
       "  require_guest_phone_verification calculated_host_listings_count  \\\n",
       "0                                f                              2   \n",
       "1                                t                              6   \n",
       "2                                f                              2   \n",
       "3                                f                              1   \n",
       "4                                f                              1   \n",
       "\n",
       "  reviews_per_month  \n",
       "0              4.07  \n",
       "1              1.48  \n",
       "2              1.15  \n",
       "3               NaN  \n",
       "4              0.89  \n",
       "\n",
       "[5 rows x 92 columns]"
      ]
     },
     "execution_count": 16,
     "metadata": {},
     "output_type": "execute_result"
    }
   ],
   "source": [
    "listings.head()"
   ]
  },
  {
   "cell_type": "code",
   "execution_count": 26,
   "id": "shaped-anaheim",
   "metadata": {},
   "outputs": [
    {
     "data": {
      "text/plain": [
       "dtype('float64')"
      ]
     },
     "execution_count": 26,
     "metadata": {},
     "output_type": "execute_result"
    }
   ],
   "source": [
    "listings['price'] = listings['price'].str.replace('[$,]', '',regex=True)\n",
    "listings['price'] = pd.to_numeric(listings['price'])\n"
   ]
  },
  {
   "cell_type": "code",
   "execution_count": 45,
   "id": "sorted-desperate",
   "metadata": {},
   "outputs": [
    {
     "data": {
      "text/plain": [
       "host_neighbourhood       object\n",
       "room_type                object\n",
       "bedrooms                float64\n",
       "price                   float64\n",
       "neighbourhood            object\n",
       "review_scores_rating    float64\n",
       "dtype: object"
      ]
     },
     "execution_count": 45,
     "metadata": {},
     "output_type": "execute_result"
    }
   ],
   "source": [
    "listings_dropna = listings.dropna(axis=0)\n",
    "listings2=listings[['host_neighbourhood','room_type','bedrooms','price','neighbourhood','review_scores_rating']]\n",
    "listings2.dtypes"
   ]
  },
  {
   "cell_type": "code",
   "execution_count": 52,
   "id": "daily-break",
   "metadata": {},
   "outputs": [
    {
     "name": "stderr",
     "output_type": "stream",
     "text": [
      "<ipython-input-52-020d03d16206>:1: SettingWithCopyWarning: \n",
      "A value is trying to be set on a copy of a slice from a DataFrame.\n",
      "Try using .loc[row_indexer,col_indexer] = value instead\n",
      "\n",
      "See the caveats in the documentation: https://pandas.pydata.org/pandas-docs/stable/user_guide/indexing.html#returning-a-view-versus-a-copy\n",
      "  listings2['cnt'] = 1\n"
     ]
    }
   ],
   "source": [
    "listings2['cnt'] = 1\n",
    "\n",
    "listings2_group= listings2.groupby(['neighbourhood'], as_index=False)['price'].mean()\n",
    "listings2_group= listings2_group[listings2_group['price'] > 160]\n",
    "listings2_group2= listings2.groupby(['neighbourhood'], as_index=False)['review_scores_rating'].mean()\n",
    "listings2_group2= listings2_group2[listings2_group2['review_scores_rating'] > 96]\n"
   ]
  },
  {
   "cell_type": "code",
   "execution_count": 43,
   "id": "complimentary-sense",
   "metadata": {},
   "outputs": [
    {
     "data": {
      "image/png": "[encoded data removed]",
      "text/plain": [
       "<Figure size 432x288 with 1 Axes>"
      ]
     },
     "metadata": {
      "needs_background": "light"
     },
     "output_type": "display_data"
    }
   ],
   "source": [
    "sns.barplot(x=listings2_group['price'],y=listings2_group['neighbourhood'],);\n",
    "plt.title('listings neighbourhood prices');\n"
   ]
  },
  {
   "cell_type": "code",
   "execution_count": 53,
   "id": "fresh-reality",
   "metadata": {},
   "outputs": [
    {
     "data": {
      "image/png": "[encoded data removed]",
      "text/plain": [
       "<Figure size 432x288 with 1 Axes>"
      ]
     },
     "metadata": {
      "needs_background": "light"
     },
     "output_type": "display_data"
    }
   ],
   "source": [
    "sns.barplot(x=listings2_group2['review_scores_rating'],y=listings2_group2['neighbourhood']);\n",
    "plt.title('listings neighbourhood prices');"
   ]
  },
  {
   "cell_type": "markdown",
   "id": "eight-bullet",
   "metadata": {},
   "source": [
    "As you can observe from above graphs there are relation between high review scores and prices \n"
   ]
  },
  {
   "cell_type": "code",
   "execution_count": 61,
   "id": "ignored-adventure",
   "metadata": {},
   "outputs": [
    {
     "data": {
      "text/html": [
       "<div>\n",
       "<style scoped>\n",
       "    .dataframe tbody tr th:only-of-type {\n",
       "        vertical-align: middle;\n",
       "    }\n",
       "\n",
       "    .dataframe tbody tr th {\n",
       "        vertical-align: top;\n",
       "    }\n",
       "\n",
       "    .dataframe thead th {\n",
       "        text-align: right;\n",
       "    }\n",
       "</style>\n",
       "<table border=\"1\" class=\"dataframe\">\n",
       "  <thead>\n",
       "    <tr style=\"text-align: right;\">\n",
       "      <th></th>\n",
       "      <th>neighbourhood</th>\n",
       "      <th>price</th>\n",
       "      <th>review_scores_rating</th>\n",
       "    </tr>\n",
       "  </thead>\n",
       "  <tbody>\n",
       "    <tr>\n",
       "      <th>4</th>\n",
       "      <td>Fauntleroy</td>\n",
       "      <td>164.100000</td>\n",
       "      <td>96.111111</td>\n",
       "    </tr>\n",
       "    <tr>\n",
       "      <th>7</th>\n",
       "      <td>Montlake</td>\n",
       "      <td>195.947368</td>\n",
       "      <td>96.812500</td>\n",
       "    </tr>\n",
       "    <tr>\n",
       "      <th>11</th>\n",
       "      <td>Westlake</td>\n",
       "      <td>197.000000</td>\n",
       "      <td>96.500000</td>\n",
       "    </tr>\n",
       "    <tr>\n",
       "      <th>12</th>\n",
       "      <td>Windermere</td>\n",
       "      <td>174.700000</td>\n",
       "      <td>97.500000</td>\n",
       "    </tr>\n",
       "  </tbody>\n",
       "</table>\n",
       "</div>"
      ],
      "text/plain": [
       "   neighbourhood       price  review_scores_rating\n",
       "4     Fauntleroy  164.100000             96.111111\n",
       "7       Montlake  195.947368             96.812500\n",
       "11      Westlake  197.000000             96.500000\n",
       "12    Windermere  174.700000             97.500000"
      ]
     },
     "execution_count": 61,
     "metadata": {},
     "output_type": "execute_result"
    }
   ],
   "source": [
    "neighbourhood_analysis=listings2_group.merge(listings2_group2,how='left')\n",
    "neighbourhood_analysis = neighbourhood_analysis.dropna(how = 'any')\n",
    "print(neighbourhood_analysis)\n"
   ]
  },
  {
   "cell_type": "markdown",
   "id": "directed-quick",
   "metadata": {},
   "source": [
    "### Modeling, Evaluation\n"
   ]
  },
  {
   "cell_type": "code",
   "execution_count": 62,
   "id": "parliamentary-survivor",
   "metadata": {
    "scrolled": false
   },
   "outputs": [],
   "source": [
    "\n",
    "X = listings[['room_type','bedrooms','neighbourhood']]\n",
    "y = listings['price']\n",
    "\n",
    "#Split into train and test\n",
    "X_train, X_test, y_train, y_test = train_test_split(X, y, test_size = .30, random_state=42) \n"
   ]
  },
  {
   "cell_type": "code",
   "execution_count": null,
   "id": "delayed-praise",
   "metadata": {},
   "outputs": [],
   "source": [
    "\n",
    "lm_model = LinearRegression(normalize=True) \n",
    "lm_model.fit(X_train, y_train) \n",
    "        \n",
    "Predict and score the model\n",
    "y_test_preds = lm_model.predict(X_test) "
   ]
  },
  {
   "cell_type": "markdown",
   "id": "welsh-animal",
   "metadata": {},
   "source": [
    "### Summary\n",
    "This notebook uses data from the Seattle area of Airbnb and has been analyzed to answer the following questions. Here we summarize the answers to those questions.\n",
    "\n",
    "   **1-When do reservations increase in Seattle?what is the busiest season ?**\n",
    "    \n",
    "        reservations increase in Seattle on March, November and December and the busiest season is on December.\n",
    "\n",
    "   **2-If bookings increase is prices increase also ?**\n",
    "    \n",
    "        There is no relationship between increas number of reservations and higher prices because it is possible that real estate owners do not rent the property during the summer because they are staying there.\n",
    "\n",
    "   **3-is the property prices change based on neighborhoods and high review scores ?**\n",
    "        Yes , we observe from above graphs there are relation between high review scores and prices and this is the ist for The most expensive propertye with a high review scores\n",
    "        \n",
    "    \n"
   ]
  },
  {
   "cell_type": "code",
   "execution_count": null,
   "id": "directed-pharmacology",
   "metadata": {},
   "outputs": [],
   "source": []
  },
  {
   "cell_type": "code",
   "execution_count": null,
   "id": "stuffed-gauge",
   "metadata": {},
   "outputs": [],
   "source": []
  }
 ],
 "metadata": {
  "kernelspec": {
   "display_name": "Python 3",
   "language": "python",
   "name": "python3"
  },
  "language_info": {
   "codemirror_mode": {
    "name": "ipython",
    "version": 3
   },
   "file_extension": ".py",
   "mimetype": "text/x-python",
   "name": "python",
   "nbconvert_exporter": "python",
   "pygments_lexer": "ipython3",
   "version": "3.8.5"
  }
 },
 "nbformat": 4,
 "nbformat_minor": 5
}
